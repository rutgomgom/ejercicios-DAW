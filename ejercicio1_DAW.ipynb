{
 "cells": [
  {
   "cell_type": "code",
   "execution_count": null,
   "id": "7ecd502f-0b15-41e5-ba91-a64e005ee507",
   "metadata": {},
   "outputs": [],
   "source": [
    "El siguiente script te pedirá tu nombre y tu edad\n"
   ]
  },
  {
   "cell_type": "code",
   "execution_count": 6,
   "id": "96eca17d-70d8-4ad5-aac6-f4e3c7dfdd56",
   "metadata": {},
   "outputs": [
    {
     "name": "stdin",
     "output_type": "stream",
     "text": [
      "dame tu nombre  Ruth\n",
      "dame tu edad  35\n"
     ]
    }
   ],
   "source": [
    "nombre =input(\"dame tu nombre \")\n",
    "edad = input(\"dame tu edad \")\n"
   ]
  },
  {
   "cell_type": "code",
   "execution_count": null,
   "id": "bbfc17c5-def1-4fab-8357-1515441d45f5",
   "metadata": {},
   "outputs": [],
   "source": [
    "Seguidamente el programa presenta en pantalla los datos"
   ]
  },
  {
   "cell_type": "code",
   "execution_count": 8,
   "id": "b4e398df-5854-4f72-bf25-8cc0fef81847",
   "metadata": {
    "scrolled": true
   },
   "outputs": [
    {
     "name": "stdout",
     "output_type": "stream",
     "text": [
      "¡Bienvenido! Ruth\n",
      "tu edad es  35\n",
      "Estás en el módulo optativo de Python\n"
     ]
    }
   ],
   "source": [
    "print(\"¡Bienvenido!\", nombre)\n",
    "print(\"tu edad es \",edad)\n",
    "print(\"Estás en el módulo optativo de Python\")"
   ]
  },
  {
   "cell_type": "code",
   "execution_count": null,
   "id": "33d4ebee-186c-4519-93e0-ac6110988273",
   "metadata": {},
   "outputs": [],
   "source": []
  }
 ],
 "metadata": {
  "kernelspec": {
   "display_name": "Python [conda env:base] *",
   "language": "python",
   "name": "conda-base-py"
  },
  "language_info": {
   "codemirror_mode": {
    "name": "ipython",
    "version": 3
   },
   "file_extension": ".py",
   "mimetype": "text/x-python",
   "name": "python",
   "nbconvert_exporter": "python",
   "pygments_lexer": "ipython3",
   "version": "3.12.7"
  }
 },
 "nbformat": 4,
 "nbformat_minor": 5
}
